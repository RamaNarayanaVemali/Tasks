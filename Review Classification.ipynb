{
 "cells": [
  {
   "cell_type": "code",
   "execution_count": 1,
   "id": "6d7697d9",
   "metadata": {},
   "outputs": [
    {
     "name": "stderr",
     "output_type": "stream",
     "text": [
      "C:\\Users\\raman\\anaconda3\\Lib\\site-packages\\transformers\\utils\\generic.py:260: FutureWarning: `torch.utils._pytree._register_pytree_node` is deprecated. Please use `torch.utils._pytree.register_pytree_node` instead.\n",
      "  torch.utils._pytree._register_pytree_node(\n",
      "C:\\Users\\raman\\anaconda3\\Lib\\site-packages\\huggingface_hub\\file_download.py:795: FutureWarning: `resume_download` is deprecated and will be removed in version 1.0.0. Downloads always resume when possible. If you want to force a new download, use `force_download=True`.\n",
      "  warnings.warn(\n"
     ]
    },
    {
     "name": "stdout",
     "output_type": "stream",
     "text": [
      "Review: This product is amazing! I loved it.\n",
      "Sentiment: POSITIVE (Confidence: 0.9999)\n",
      "\n",
      "Review: Terrible experience, the quality is so bad.\n",
      "Sentiment: NEGATIVE (Confidence: 0.9998)\n",
      "\n",
      "Review: Pretty decent, not too great but not too bad either.\n",
      "Sentiment: POSITIVE (Confidence: 0.9989)\n",
      "\n",
      "Review: I will never buy this again. Waste of money!\n",
      "Sentiment: NEGATIVE (Confidence: 0.9998)\n",
      "\n",
      "Review: Exceeded my expectations. Highly recommended!\n",
      "Sentiment: POSITIVE (Confidence: 0.9999)\n",
      "\n"
     ]
    }
   ],
   "source": [
    "from transformers import pipeline\n",
    "\n",
    "# Load sentiment analysis pipeline using PyTorch\n",
    "classifier = pipeline(\n",
    "    \"sentiment-analysis\",\n",
    "    model=\"distilbert-base-uncased-finetuned-sst-2-english\",\n",
    "    framework=\"pt\"  # Use PyTorch\n",
    ")\n",
    "\n",
    "# Sample reviews\n",
    "reviews = [\n",
    "    \"This product is amazing! I loved it.\",\n",
    "    \"Terrible experience, the quality is so bad.\",\n",
    "    \"Pretty decent, not too great but not too bad either.\",\n",
    "    \"I will never buy this again. Waste of money!\",\n",
    "    \"Exceeded my expectations. Highly recommended!\"\n",
    "]\n",
    "\n",
    "# Perform sentiment analysis\n",
    "results = classifier(reviews)\n",
    "\n",
    "# Display results\n",
    "for review, result in zip(reviews, results):\n",
    "    sentiment = result[\"label\"]\n",
    "    score = result[\"score\"]\n",
    "    print(f\"Review: {review}\\nSentiment: {sentiment} (Confidence: {score:.4f})\\n\")\n"
   ]
  }
 ],
 "metadata": {
  "kernelspec": {
   "display_name": "Python 3 (ipykernel)",
   "language": "python",
   "name": "python3"
  },
  "language_info": {
   "codemirror_mode": {
    "name": "ipython",
    "version": 3
   },
   "file_extension": ".py",
   "mimetype": "text/x-python",
   "name": "python",
   "nbconvert_exporter": "python",
   "pygments_lexer": "ipython3",
   "version": "3.11.5"
  }
 },
 "nbformat": 4,
 "nbformat_minor": 5
}
