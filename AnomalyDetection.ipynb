{
 "cells": [
  {
   "cell_type": "markdown",
   "metadata": {},
   "source": [
    "# Module 4: Anomaly Detection\n",
    "## Cumulative Exercise:\n",
    "### Outlier Detection for Linear Regression on an Auto MPG Dataset\n",
    "\n",
    "In this exercise, you'll be attempting linear (Ridge) regression on a dataset encoding automotive \n",
    "MPG against several other discrete and continuous variables, \n",
    "as described [here](https://archive.ics.uci.edu/ml/datasets/auto+mpg) in the UCI repository.\n",
    "\n",
    "### Notes\n",
    "1. The clearest use of this dataset is to predict MPG, which is column one in the .txt.\n",
    "2. For convenience, some `NaN` values have been pre-emptively cleaned from this dataset. Looking at the original dataset, there are a handful of entries containing null or `?` values, which we have removed."
   ]
  },
  {
   "cell_type": "code",
   "execution_count": 1,
   "metadata": {},
   "outputs": [
    {
     "data": {
      "text/html": [
       "<div>\n",
       "<style scoped>\n",
       "    .dataframe tbody tr th:only-of-type {\n",
       "        vertical-align: middle;\n",
       "    }\n",
       "\n",
       "    .dataframe tbody tr th {\n",
       "        vertical-align: top;\n",
       "    }\n",
       "\n",
       "    .dataframe thead th {\n",
       "        text-align: right;\n",
       "    }\n",
       "</style>\n",
       "<table border=\"1\" class=\"dataframe\">\n",
       "  <thead>\n",
       "    <tr style=\"text-align: right;\">\n",
       "      <th></th>\n",
       "      <th>mpg</th>\n",
       "      <th>cylinders</th>\n",
       "      <th>displacement</th>\n",
       "      <th>horsepower</th>\n",
       "      <th>weight</th>\n",
       "      <th>acceleration</th>\n",
       "      <th>year</th>\n",
       "      <th>origin</th>\n",
       "    </tr>\n",
       "  </thead>\n",
       "  <tbody>\n",
       "    <tr>\n",
       "      <th>count</th>\n",
       "      <td>423.000000</td>\n",
       "      <td>423.000000</td>\n",
       "      <td>423.000000</td>\n",
       "      <td>423.000000</td>\n",
       "      <td>4.230000e+02</td>\n",
       "      <td>423.000000</td>\n",
       "      <td>423.000000</td>\n",
       "      <td>423.000000</td>\n",
       "    </tr>\n",
       "    <tr>\n",
       "      <th>mean</th>\n",
       "      <td>22.151443</td>\n",
       "      <td>5.824960</td>\n",
       "      <td>196.756004</td>\n",
       "      <td>477.616796</td>\n",
       "      <td>8.785400e+05</td>\n",
       "      <td>15.538771</td>\n",
       "      <td>82.095406</td>\n",
       "      <td>1.569740</td>\n",
       "    </tr>\n",
       "    <tr>\n",
       "      <th>std</th>\n",
       "      <td>8.817102</td>\n",
       "      <td>2.720733</td>\n",
       "      <td>111.032114</td>\n",
       "      <td>1411.463705</td>\n",
       "      <td>3.249376e+06</td>\n",
       "      <td>2.729471</td>\n",
       "      <td>29.467660</td>\n",
       "      <td>0.799426</td>\n",
       "    </tr>\n",
       "    <tr>\n",
       "      <th>min</th>\n",
       "      <td>3.625937</td>\n",
       "      <td>-0.743522</td>\n",
       "      <td>-19.283003</td>\n",
       "      <td>46.000000</td>\n",
       "      <td>1.613000e+03</td>\n",
       "      <td>8.000000</td>\n",
       "      <td>-18.076791</td>\n",
       "      <td>1.000000</td>\n",
       "    </tr>\n",
       "    <tr>\n",
       "      <th>25%</th>\n",
       "      <td>16.000000</td>\n",
       "      <td>4.000000</td>\n",
       "      <td>102.500000</td>\n",
       "      <td>78.000000</td>\n",
       "      <td>2.259500e+03</td>\n",
       "      <td>13.700000</td>\n",
       "      <td>73.000000</td>\n",
       "      <td>1.000000</td>\n",
       "    </tr>\n",
       "    <tr>\n",
       "      <th>50%</th>\n",
       "      <td>21.500000</td>\n",
       "      <td>5.056846</td>\n",
       "      <td>151.000000</td>\n",
       "      <td>96.000000</td>\n",
       "      <td>2.930000e+03</td>\n",
       "      <td>15.500000</td>\n",
       "      <td>76.000000</td>\n",
       "      <td>1.000000</td>\n",
       "    </tr>\n",
       "    <tr>\n",
       "      <th>75%</th>\n",
       "      <td>28.050000</td>\n",
       "      <td>8.000000</td>\n",
       "      <td>302.000000</td>\n",
       "      <td>145.000000</td>\n",
       "      <td>3.860000e+03</td>\n",
       "      <td>17.000000</td>\n",
       "      <td>80.000000</td>\n",
       "      <td>2.000000</td>\n",
       "    </tr>\n",
       "    <tr>\n",
       "      <th>max</th>\n",
       "      <td>46.600000</td>\n",
       "      <td>31.872541</td>\n",
       "      <td>604.080466</td>\n",
       "      <td>10222.846370</td>\n",
       "      <td>1.879313e+07</td>\n",
       "      <td>24.800000</td>\n",
       "      <td>284.100062</td>\n",
       "      <td>3.000000</td>\n",
       "    </tr>\n",
       "  </tbody>\n",
       "</table>\n",
       "</div>"
      ],
      "text/plain": [
       "              mpg   cylinders  displacement    horsepower        weight  \\\n",
       "count  423.000000  423.000000    423.000000    423.000000  4.230000e+02   \n",
       "mean    22.151443    5.824960    196.756004    477.616796  8.785400e+05   \n",
       "std      8.817102    2.720733    111.032114   1411.463705  3.249376e+06   \n",
       "min      3.625937   -0.743522    -19.283003     46.000000  1.613000e+03   \n",
       "25%     16.000000    4.000000    102.500000     78.000000  2.259500e+03   \n",
       "50%     21.500000    5.056846    151.000000     96.000000  2.930000e+03   \n",
       "75%     28.050000    8.000000    302.000000    145.000000  3.860000e+03   \n",
       "max     46.600000   31.872541    604.080466  10222.846370  1.879313e+07   \n",
       "\n",
       "       acceleration        year      origin  \n",
       "count    423.000000  423.000000  423.000000  \n",
       "mean      15.538771   82.095406    1.569740  \n",
       "std        2.729471   29.467660    0.799426  \n",
       "min        8.000000  -18.076791    1.000000  \n",
       "25%       13.700000   73.000000    1.000000  \n",
       "50%       15.500000   76.000000    1.000000  \n",
       "75%       17.000000   80.000000    2.000000  \n",
       "max       24.800000  284.100062    3.000000  "
      ]
     },
     "execution_count": 1,
     "metadata": {},
     "output_type": "execute_result"
    }
   ],
   "source": [
    "import os\n",
    "import pandas as pd\n",
    "import numpy as np\n",
    "import matplotlib.pyplot as plt\n",
    "from sklearn.model_selection import cross_val_score, train_test_split\n",
    "from sklearn.linear_model import Ridge\n",
    "\n",
    "# path to dataset\n",
    "DATASET = '/dsa/data/all_datasets/autoMPG-1.txt'\n",
    "assert os.path.exists(DATASET)   # check if datafile is present\n",
    "\n",
    "# Read your data into a DataFrame called 'dataset'\n",
    "dataset = pd.read_csv(DATASET, index_col=0).dropna().sample(frac=1).reset_index(drop = True)\n",
    "dataset.describe()"
   ]
  },
  {
   "cell_type": "code",
   "execution_count": 3,
   "metadata": {},
   "outputs": [
    {
     "data": {
      "text/html": [
       "<div>\n",
       "<style scoped>\n",
       "    .dataframe tbody tr th:only-of-type {\n",
       "        vertical-align: middle;\n",
       "    }\n",
       "\n",
       "    .dataframe tbody tr th {\n",
       "        vertical-align: top;\n",
       "    }\n",
       "\n",
       "    .dataframe thead th {\n",
       "        text-align: right;\n",
       "    }\n",
       "</style>\n",
       "<table border=\"1\" class=\"dataframe\">\n",
       "  <thead>\n",
       "    <tr style=\"text-align: right;\">\n",
       "      <th></th>\n",
       "      <th>mpg</th>\n",
       "      <th>cylinders</th>\n",
       "      <th>displacement</th>\n",
       "      <th>horsepower</th>\n",
       "      <th>weight</th>\n",
       "      <th>acceleration</th>\n",
       "      <th>year</th>\n",
       "      <th>origin</th>\n",
       "      <th>car_name</th>\n",
       "    </tr>\n",
       "  </thead>\n",
       "  <tbody>\n",
       "    <tr>\n",
       "      <th>0</th>\n",
       "      <td>31.8</td>\n",
       "      <td>4.0</td>\n",
       "      <td>85.0</td>\n",
       "      <td>65.0</td>\n",
       "      <td>2020.0</td>\n",
       "      <td>19.2</td>\n",
       "      <td>79.0</td>\n",
       "      <td>3</td>\n",
       "      <td>datsun 210</td>\n",
       "    </tr>\n",
       "    <tr>\n",
       "      <th>1</th>\n",
       "      <td>20.2</td>\n",
       "      <td>6.0</td>\n",
       "      <td>232.0</td>\n",
       "      <td>90.0</td>\n",
       "      <td>3265.0</td>\n",
       "      <td>18.2</td>\n",
       "      <td>79.0</td>\n",
       "      <td>1</td>\n",
       "      <td>amc concord dl 6</td>\n",
       "    </tr>\n",
       "    <tr>\n",
       "      <th>2</th>\n",
       "      <td>35.0</td>\n",
       "      <td>4.0</td>\n",
       "      <td>122.0</td>\n",
       "      <td>88.0</td>\n",
       "      <td>2500.0</td>\n",
       "      <td>15.1</td>\n",
       "      <td>80.0</td>\n",
       "      <td>2</td>\n",
       "      <td>triumph tr7 coupe</td>\n",
       "    </tr>\n",
       "    <tr>\n",
       "      <th>3</th>\n",
       "      <td>23.0</td>\n",
       "      <td>4.0</td>\n",
       "      <td>115.0</td>\n",
       "      <td>95.0</td>\n",
       "      <td>2694.0</td>\n",
       "      <td>15.0</td>\n",
       "      <td>75.0</td>\n",
       "      <td>2</td>\n",
       "      <td>audi 100ls</td>\n",
       "    </tr>\n",
       "    <tr>\n",
       "      <th>4</th>\n",
       "      <td>32.8</td>\n",
       "      <td>4.0</td>\n",
       "      <td>78.0</td>\n",
       "      <td>52.0</td>\n",
       "      <td>1985.0</td>\n",
       "      <td>19.4</td>\n",
       "      <td>78.0</td>\n",
       "      <td>3</td>\n",
       "      <td>mazda glc deluxe</td>\n",
       "    </tr>\n",
       "  </tbody>\n",
       "</table>\n",
       "</div>"
      ],
      "text/plain": [
       "    mpg  cylinders  displacement  horsepower  weight  acceleration  year  \\\n",
       "0  31.8        4.0          85.0        65.0  2020.0          19.2  79.0   \n",
       "1  20.2        6.0         232.0        90.0  3265.0          18.2  79.0   \n",
       "2  35.0        4.0         122.0        88.0  2500.0          15.1  80.0   \n",
       "3  23.0        4.0         115.0        95.0  2694.0          15.0  75.0   \n",
       "4  32.8        4.0          78.0        52.0  1985.0          19.4  78.0   \n",
       "\n",
       "   origin           car_name  \n",
       "0       3         datsun 210  \n",
       "1       1   amc concord dl 6  \n",
       "2       2  triumph tr7 coupe  \n",
       "3       2         audi 100ls  \n",
       "4       3   mazda glc deluxe  "
      ]
     },
     "execution_count": 3,
     "metadata": {},
     "output_type": "execute_result"
    }
   ],
   "source": [
    "dataset.head()"
   ]
  },
  {
   "cell_type": "markdown",
   "metadata": {},
   "source": [
    "Pull columns from dataset into variables X (everything except mpg) and y (mpg)."
   ]
  },
  {
   "cell_type": "code",
   "execution_count": 9,
   "metadata": {},
   "outputs": [
    {
     "data": {
      "text/html": [
       "<div>\n",
       "<style scoped>\n",
       "    .dataframe tbody tr th:only-of-type {\n",
       "        vertical-align: middle;\n",
       "    }\n",
       "\n",
       "    .dataframe tbody tr th {\n",
       "        vertical-align: top;\n",
       "    }\n",
       "\n",
       "    .dataframe thead th {\n",
       "        text-align: right;\n",
       "    }\n",
       "</style>\n",
       "<table border=\"1\" class=\"dataframe\">\n",
       "  <thead>\n",
       "    <tr style=\"text-align: right;\">\n",
       "      <th></th>\n",
       "      <th>cylinders</th>\n",
       "      <th>displacement</th>\n",
       "      <th>horsepower</th>\n",
       "      <th>weight</th>\n",
       "      <th>acceleration</th>\n",
       "      <th>year</th>\n",
       "      <th>origin</th>\n",
       "      <th>car_name</th>\n",
       "    </tr>\n",
       "  </thead>\n",
       "  <tbody>\n",
       "    <tr>\n",
       "      <th>0</th>\n",
       "      <td>4.0</td>\n",
       "      <td>85.0</td>\n",
       "      <td>65.0</td>\n",
       "      <td>2020.0</td>\n",
       "      <td>19.2</td>\n",
       "      <td>79.0</td>\n",
       "      <td>3</td>\n",
       "      <td>datsun 210</td>\n",
       "    </tr>\n",
       "    <tr>\n",
       "      <th>1</th>\n",
       "      <td>6.0</td>\n",
       "      <td>232.0</td>\n",
       "      <td>90.0</td>\n",
       "      <td>3265.0</td>\n",
       "      <td>18.2</td>\n",
       "      <td>79.0</td>\n",
       "      <td>1</td>\n",
       "      <td>amc concord dl 6</td>\n",
       "    </tr>\n",
       "    <tr>\n",
       "      <th>2</th>\n",
       "      <td>4.0</td>\n",
       "      <td>122.0</td>\n",
       "      <td>88.0</td>\n",
       "      <td>2500.0</td>\n",
       "      <td>15.1</td>\n",
       "      <td>80.0</td>\n",
       "      <td>2</td>\n",
       "      <td>triumph tr7 coupe</td>\n",
       "    </tr>\n",
       "    <tr>\n",
       "      <th>3</th>\n",
       "      <td>4.0</td>\n",
       "      <td>115.0</td>\n",
       "      <td>95.0</td>\n",
       "      <td>2694.0</td>\n",
       "      <td>15.0</td>\n",
       "      <td>75.0</td>\n",
       "      <td>2</td>\n",
       "      <td>audi 100ls</td>\n",
       "    </tr>\n",
       "    <tr>\n",
       "      <th>4</th>\n",
       "      <td>4.0</td>\n",
       "      <td>78.0</td>\n",
       "      <td>52.0</td>\n",
       "      <td>1985.0</td>\n",
       "      <td>19.4</td>\n",
       "      <td>78.0</td>\n",
       "      <td>3</td>\n",
       "      <td>mazda glc deluxe</td>\n",
       "    </tr>\n",
       "  </tbody>\n",
       "</table>\n",
       "</div>"
      ],
      "text/plain": [
       "   cylinders  displacement  horsepower  weight  acceleration  year  origin  \\\n",
       "0        4.0          85.0        65.0  2020.0          19.2  79.0       3   \n",
       "1        6.0         232.0        90.0  3265.0          18.2  79.0       1   \n",
       "2        4.0         122.0        88.0  2500.0          15.1  80.0       2   \n",
       "3        4.0         115.0        95.0  2694.0          15.0  75.0       2   \n",
       "4        4.0          78.0        52.0  1985.0          19.4  78.0       3   \n",
       "\n",
       "            car_name  \n",
       "0         datsun 210  \n",
       "1   amc concord dl 6  \n",
       "2  triumph tr7 coupe  \n",
       "3         audi 100ls  \n",
       "4   mazda glc deluxe  "
      ]
     },
     "execution_count": 9,
     "metadata": {},
     "output_type": "execute_result"
    }
   ],
   "source": [
    "# Complete code below this comment  (Question #001)\n",
    "# ----------------------------------\n",
    "\n",
    "X= dataset.iloc[:,1:]\n",
    "y= dataset.iloc[:,0]\n",
    "X.head()"
   ]
  },
  {
   "cell_type": "markdown",
   "metadata": {},
   "source": [
    "Create training/validation split with 30% held out. "
   ]
  },
  {
   "cell_type": "code",
   "execution_count": 10,
   "metadata": {},
   "outputs": [
    {
     "name": "stdout",
     "output_type": "stream",
     "text": [
      "X_train.shape:  (296, 307)\n",
      "y_train.shape:  (296,)\n",
      "X_test.shape:  (127, 307)\n",
      "y_test.shape:  (127,)\n"
     ]
    }
   ],
   "source": [
    "# Complete code below this comment  (Question #E002)\n",
    "# ----------------------------------\n",
    "X=pd.get_dummies(X,drop_first=True)\n",
    "X=X.values\n",
    "y=y.values\n",
    "X_train, X_test, y_train, y_test = train_test_split(X,y,test_size=0.3,random_state=12) \n",
    "\n",
    "# verify split shapes and contents\n",
    "print(\"X_train.shape: \", X_train.shape)\n",
    "print(\"y_train.shape: \", y_train.shape)\n",
    "print(\"X_test.shape: \", X_test.shape)\n",
    "print(\"y_test.shape: \", y_test.shape)"
   ]
  },
  {
   "cell_type": "markdown",
   "metadata": {},
   "source": [
    "Fit a Ridge regressor without anomaly detection and report R^2 measure on the train set."
   ]
  },
  {
   "cell_type": "code",
   "execution_count": 11,
   "metadata": {},
   "outputs": [
    {
     "name": "stdout",
     "output_type": "stream",
     "text": [
      "Scores:  [0.49562498 0.58767054 0.03368006 0.48749253 0.62509116]\n",
      "Mean score (5 folds):  0.4459118540363966\n",
      "R2_Score on training set :  0.8498959138722499\n"
     ]
    },
    {
     "name": "stderr",
     "output_type": "stream",
     "text": [
      "/opt/conda/lib/python3.7/site-packages/sklearn/linear_model/_ridge.py:193: LinAlgWarning: Ill-conditioned matrix (rcond=4.40919e-17): result may not be accurate.\n",
      "  dual_coef = linalg.solve(K, y, sym_pos=True, overwrite_a=False)\n",
      "/opt/conda/lib/python3.7/site-packages/sklearn/linear_model/_ridge.py:193: LinAlgWarning: Ill-conditioned matrix (rcond=4.0461e-17): result may not be accurate.\n",
      "  dual_coef = linalg.solve(K, y, sym_pos=True, overwrite_a=False)\n",
      "/opt/conda/lib/python3.7/site-packages/sklearn/linear_model/_ridge.py:193: LinAlgWarning: Ill-conditioned matrix (rcond=6.23684e-17): result may not be accurate.\n",
      "  dual_coef = linalg.solve(K, y, sym_pos=True, overwrite_a=False)\n",
      "/opt/conda/lib/python3.7/site-packages/sklearn/linear_model/_ridge.py:193: LinAlgWarning: Ill-conditioned matrix (rcond=4.27282e-17): result may not be accurate.\n",
      "  dual_coef = linalg.solve(K, y, sym_pos=True, overwrite_a=False)\n",
      "/opt/conda/lib/python3.7/site-packages/sklearn/linear_model/_ridge.py:193: LinAlgWarning: Ill-conditioned matrix (rcond=4.00666e-17): result may not be accurate.\n",
      "  dual_coef = linalg.solve(K, y, sym_pos=True, overwrite_a=False)\n",
      "/opt/conda/lib/python3.7/site-packages/sklearn/linear_model/_ridge.py:193: LinAlgWarning: Ill-conditioned matrix (rcond=2.58381e-17): result may not be accurate.\n",
      "  dual_coef = linalg.solve(K, y, sym_pos=True, overwrite_a=False)\n"
     ]
    }
   ],
   "source": [
    "# Complete code below this comment  (Question #E003)\n",
    "# ----------------------------------\n",
    "\n",
    "from sklearn.metrics import r2_score\n",
    "naive_model = Ridge() #P4003\n",
    "scores = cross_val_score(estimator=naive_model, X=X_train, y=y_train,cv=5)\n",
    "print(\"Scores: \", scores)\n",
    "print(\"Mean score (5 folds): \", np.mean(scores))\n",
    "\n",
    "naive_model.fit(X_train,y_train)\n",
    "prediction = naive_model.predict(X_train)\n",
    "print(\"R2_Score on training set : \",r2_score(y_train,prediction))"
   ]
  },
  {
   "cell_type": "markdown",
   "metadata": {},
   "source": [
    "Create prediction from X_test and store into variable <span style=\"background: yellow;\">naive_predictions</span>. Report R^2 measure."
   ]
  },
  {
   "cell_type": "code",
   "execution_count": 12,
   "metadata": {},
   "outputs": [
    {
     "name": "stdout",
     "output_type": "stream",
     "text": [
      "R2_Score on test set :  0.5895219052333844\n"
     ]
    }
   ],
   "source": [
    "# Complete code below this comment  (Question #E004)\n",
    "# ----------------------------------\n",
    "\n",
    "\n",
    "naive_predictions = naive_model.predict(X_test)\n",
    "print(\"R2_Score on test set : \",r2_score(y_test,naive_predictions))\n"
   ]
  },
  {
   "cell_type": "markdown",
   "metadata": {},
   "source": [
    "Create a scatter plot of y_test against naive predictions.  \n",
    "The following is for reference.\n",
    "\n",
    "~~~python\n",
    "plt.scatter(<placeholder>, <placeholder>)\n",
    "plt.title(\"No outlier reduction\")\n",
    "plt.xlabel(\"Y-actual (raw splits)\")\n",
    "plt.ylabel(\"Y-predicted (from raw model)\")\n",
    "plt.show()\n",
    "~~~"
   ]
  },
  {
   "cell_type": "code",
   "execution_count": 13,
   "metadata": {},
   "outputs": [
    {
     "data": {
      "image/png": "[encoded data removed]",
      "text/plain": [
       "<Figure size 432x288 with 1 Axes>"
      ]
     },
     "metadata": {
      "needs_background": "light"
     },
     "output_type": "display_data"
    }
   ],
   "source": [
    "# Complete code below this comment  (Question #E005)\n",
    "# ----------------------------------\n",
    "plt.scatter(y_test, naive_predictions)\n",
    "plt.title(\"No outlier reduction\")\n",
    "plt.xlabel(\"Y-actual (raw splits)\")\n",
    "plt.ylabel(\"Y-predicted (from raw model)\")\n",
    "plt.show()\n"
   ]
  },
  {
   "cell_type": "markdown",
   "metadata": {},
   "source": [
    "### Using a model of your choice, remove outliers from X and y.\n",
    "\n",
    "Import your tools for outlier reduction.  \n",
    "Options include: `KMeans`, `EllipticEnvelope`, `IsolationForest`, and `OneClassSVM`. "
   ]
  },
  {
   "cell_type": "code",
   "execution_count": 14,
   "metadata": {},
   "outputs": [
    {
     "name": "stdout",
     "output_type": "stream",
     "text": [
      "Num of outliers = 20\n"
     ]
    }
   ],
   "source": [
    "# Complete code below this comment  (Question #E006)\n",
    "# ----------------------------------\n",
    "\n",
    "from sklearn.ensemble import IsolationForest\n",
    "\n",
    "# Construct IsolationForest \n",
    "iso_forest = IsolationForest(contamination=0.05).fit(X_train, y_train)\n",
    "\n",
    "# Get labels from classifier and cull outliers #P4006\n",
    "iso_outliers = iso_forest.predict(X)==-1\n",
    "print(f\"Num of outliers = {np.sum(iso_outliers)}\")\n",
    "X_iso = X[~iso_outliers]\n",
    "y_iso = y[~iso_outliers]"
   ]
  },
  {
   "cell_type": "markdown",
   "metadata": {},
   "source": [
    "Create training/test set with the removal of outliers from the above training/test set. "
   ]
  },
  {
   "cell_type": "code",
   "execution_count": 15,
   "metadata": {},
   "outputs": [],
   "source": [
    "# Complete code below this comment  (Question #E007)\n",
    "# ----------------------------------\n",
    "\n",
    "\n",
    "\n",
    "X_iso_train, X_iso_test, y_iso_train, y_iso_test = train_test_split(X_iso,y_iso,test_size=0.3,random_state=12) \n",
    "\n"
   ]
  },
  {
   "cell_type": "markdown",
   "metadata": {},
   "source": [
    "Fit a new model against inliers and print score (R^2) for the model."
   ]
  },
  {
   "cell_type": "code",
   "execution_count": 16,
   "metadata": {},
   "outputs": [
    {
     "name": "stdout",
     "output_type": "stream",
     "text": [
      "R2_score without outliers for training set:  0.9790280680317692\n"
     ]
    }
   ],
   "source": [
    "# Complete code below this comment  (Question #E008)\n",
    "# ----------------------------------\n",
    "\n",
    "\n",
    "from sklearn.linear_model import LinearRegression\n",
    "\n",
    "\n",
    "iso_model = LinearRegression()\n",
    "iso_model.fit(X_iso_train, y_iso_train)\n",
    "\n",
    "iso_predictions = iso_model.predict(X_iso_train)\n",
    "print(\"R2_score without outliers for training set: \",r2_score(y_iso_train, iso_predictions))\n",
    "\n",
    "\n",
    "\n"
   ]
  },
  {
   "cell_type": "markdown",
   "metadata": {},
   "source": [
    "Predict with the test set, report R^2, and plot y-actual against y-predicted again for labels in testing set."
   ]
  },
  {
   "cell_type": "code",
   "execution_count": 19,
   "metadata": {},
   "outputs": [
    {
     "name": "stdout",
     "output_type": "stream",
     "text": [
      "R2_score without outliers for test set:  0.4323241254335154\n"
     ]
    },
    {
     "data": {
      "image/png": "[encoded data removed]",
      "text/plain": [
       "<Figure size 432x288 with 1 Axes>"
      ]
     },
     "metadata": {
      "needs_background": "light"
     },
     "output_type": "display_data"
    }
   ],
   "source": [
    "# Complete code below this comment  (Question #E009)\n",
    "# ----------------------------------\n",
    "\n",
    "\n",
    "\n",
    "iso_predictions = iso_model.predict(X_iso_test)\n",
    "print(\"R2_score without outliers for test set: \",r2_score(y_iso_test, iso_predictions))\n",
    "\n",
    "plt.scatter(y_iso_test, iso_predictions)\n",
    "plt.title(\"Outlier reduction\")\n",
    "plt.xlabel(\"Y-actual (raw splits)\")\n",
    "plt.ylabel(\"Y-predicted (from raw model)\")\n",
    "plt.show()\n"
   ]
  },
  {
   "cell_type": "markdown",
   "metadata": {},
   "source": [
    "Pickle (serialize) your model as the file named: `my_module_4_model.pkl`"
   ]
  },
  {
   "cell_type": "code",
   "execution_count": 1,
   "metadata": {},
   "outputs": [
    {
     "ename": "NameError",
     "evalue": "name 'iso_model' is not defined",
     "output_type": "error",
     "traceback": [
      "\u001b[1;31m---------------------------------------------------------------------------\u001b[0m",
      "\u001b[1;31mNameError\u001b[0m                                 Traceback (most recent call last)",
      "Input \u001b[1;32mIn [1]\u001b[0m, in \u001b[0;36m<cell line: 5>\u001b[1;34m()\u001b[0m\n\u001b[0;32m      3\u001b[0m \u001b[38;5;28;01mimport\u001b[39;00m \u001b[38;5;21;01mpickle\u001b[39;00m\n\u001b[0;32m      4\u001b[0m filename \u001b[38;5;241m=\u001b[39m \u001b[38;5;124m'\u001b[39m\u001b[38;5;124mmy_module_4_model.pkl\u001b[39m\u001b[38;5;124m'\u001b[39m\n\u001b[1;32m----> 5\u001b[0m pickle\u001b[38;5;241m.\u001b[39mdump(\u001b[43miso_model\u001b[49m, \u001b[38;5;28mopen\u001b[39m(filename, \u001b[38;5;124m'\u001b[39m\u001b[38;5;124mwb\u001b[39m\u001b[38;5;124m'\u001b[39m))\n",
      "\u001b[1;31mNameError\u001b[0m: name 'iso_model' is not defined"
     ]
    }
   ],
   "source": [
    "# Complete code below this comment  (Question #E010)\n",
    "# ----------------------------------\n",
    "import pickle\n",
    "filename = 'my_module_4_model.pkl'\n",
    "pickle.dump(iso_model, open(filename, 'wb'))"
   ]
  },
  {
   "cell_type": "markdown",
   "metadata": {},
   "source": [
    "# Save your notebook!"
   ]
  }
 ],
 "metadata": {
  "kernelspec": {
   "display_name": "Python 3 (ipykernel)",
   "language": "python",
   "name": "python3"
  },
  "language_info": {
   "codemirror_mode": {
    "name": "ipython",
    "version": 3
   },
   "file_extension": ".py",
   "mimetype": "text/x-python",
   "name": "python",
   "nbconvert_exporter": "python",
   "pygments_lexer": "ipython3",
   "version": "3.9.12"
  }
 },
 "nbformat": 4,
 "nbformat_minor": 4
}
