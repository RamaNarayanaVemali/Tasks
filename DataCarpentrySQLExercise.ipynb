{
 "cells": [
  {
   "cell_type": "markdown",
   "metadata": {},
   "source": [
    "# Data Carpentry SQL Exercise\n",
    "\n",
    "This exercise continues to use the DSASurvey fictional data and focused on applying SQL String Functions for performing basic data carpentry on several columns of \"bad\" data.\n"
   ]
  },
  {
   "cell_type": "markdown",
   "metadata": {},
   "source": [
    "We will be using some of the SQL string functions (upper, trim, substr, instr) so we can better tidy our data.\n",
    "\n",
    "**[SQL Function](https://www.sqlitetutorial.net/sqlite-string-functions/) Descriptions**\n",
    "* [upper](https://www.sqlitetutorial.net/sqlite-functions/sqlite-upper/) - converts string to upper case \n",
    "* [trim](https://www.sqlitetutorial.net/sqlite-functions/sqlite-trim/) - removes all leading and trailing white space (e.g. spaces) \n",
    "* [substr](https://www.sqlitetutorial.net/sqlite-functions/sqlite-substr/) - returns a substring from another string with a specified starting position and length \n",
    "* [instr](https://www.sqlitetutorial.net/sqlite-functions/sqlite-instr/) - returns the starting postions of the first occurrence of a string in another string "
   ]
  },
  {
   "cell_type": "markdown",
   "metadata": {},
   "source": [
    "# 1 - Add the correct SQL Extention as used in the LAB and Practice to allow the \"SQL Magic - %%sql\" to execute.\n",
    "\n",
    "## Add the correct code below:"
   ]
  },
  {
   "cell_type": "code",
   "execution_count": 1,
   "metadata": {},
   "outputs": [],
   "source": [
    "%load_ext sql"
   ]
  },
  {
   "cell_type": "markdown",
   "metadata": {},
   "source": [
    "# 2 - Issue the correct connection string to connect to the DSASurvey SQLite Database ('DSASurvey') as used in the LAB and Practice.\n",
    "\n",
    "## Add the correct code below:"
   ]
  },
  {
   "cell_type": "code",
   "execution_count": 2,
   "metadata": {},
   "outputs": [
    {
     "data": {
      "text/plain": [
       "'Connected: @/dsa/data/DSA-7030/DSASurvey.db'"
      ]
     },
     "execution_count": 2,
     "metadata": {},
     "output_type": "execute_result"
    }
   ],
   "source": [
    "%sql sqlite:////dsa/data/DSA-7030/DSASurvey.db"
   ]
  },
  {
   "cell_type": "markdown",
   "metadata": {},
   "source": [
    "# 3 - Utilizing the appropriate string functions as described above, using SQL, separate the Name column into FirstName and LastName columns standardizing to all UPPER CASE and selecting all other columns too:"
   ]
  },
  {
   "cell_type": "code",
   "execution_count": 3,
   "metadata": {},
   "outputs": [
    {
     "name": "stdout",
     "output_type": "stream",
     "text": [
      " * sqlite:////dsa/data/DSA-7030/DSASurvey.db\n",
      "Done.\n"
     ]
    },
    {
     "data": {
      "text/html": [
       "<table>\n",
       "    <tr>\n",
       "        <th>ID</th>\n",
       "        <th>Name</th>\n",
       "        <th>Age</th>\n",
       "        <th>Location</th>\n",
       "        <th>ProgLang</th>\n",
       "        <th>ProgProf</th>\n",
       "        <th>DSAKnowledgeLevel</th>\n",
       "    </tr>\n",
       "    <tr>\n",
       "        <td>1</td>\n",
       "        <td>John Smith</td>\n",
       "        <td>33</td>\n",
       "        <td>Portsmith, DE</td>\n",
       "        <td>C</td>\n",
       "        <td>7</td>\n",
       "        <td>3</td>\n",
       "    </tr>\n",
       "    <tr>\n",
       "        <td>2</td>\n",
       "        <td>Mary Wilson</td>\n",
       "        <td>28</td>\n",
       "        <td>Los Angles, CA</td>\n",
       "        <td>Python</td>\n",
       "        <td>10</td>\n",
       "        <td>6</td>\n",
       "    </tr>\n",
       "    <tr>\n",
       "        <td>3</td>\n",
       "        <td>Brook Tumay</td>\n",
       "        <td>61</td>\n",
       "        <td>Miami, FL</td>\n",
       "        <td>R,Pandas</td>\n",
       "        <td>3</td>\n",
       "        <td>2</td>\n",
       "    </tr>\n",
       "    <tr>\n",
       "        <td>4</td>\n",
       "        <td>Vieat Olson</td>\n",
       "        <td>63</td>\n",
       "        <td>St. Louis, MO</td>\n",
       "        <td>Java</td>\n",
       "        <td>6</td>\n",
       "        <td>8</td>\n",
       "    </tr>\n",
       "    <tr>\n",
       "        <td>5</td>\n",
       "        <td>Constance Martin</td>\n",
       "        <td>22</td>\n",
       "        <td>Dodge City, KS</td>\n",
       "        <td>Visual Basic</td>\n",
       "        <td>7</td>\n",
       "        <td>9</td>\n",
       "    </tr>\n",
       "    <tr>\n",
       "        <td>6</td>\n",
       "        <td>Carlos Vialli</td>\n",
       "        <td>39</td>\n",
       "        <td>Benton, AR</td>\n",
       "        <td>C Sharp</td>\n",
       "        <td>4</td>\n",
       "        <td>3</td>\n",
       "    </tr>\n",
       "    <tr>\n",
       "        <td>7</td>\n",
       "        <td>Benny Schrartz</td>\n",
       "        <td>41</td>\n",
       "        <td>Dallas, Tx</td>\n",
       "        <td>C++</td>\n",
       "        <td>8</td>\n",
       "        <td>5</td>\n",
       "    </tr>\n",
       "    <tr>\n",
       "        <td>8</td>\n",
       "        <td>John Smith</td>\n",
       "        <td>22</td>\n",
       "        <td>Portsmith, DE</td>\n",
       "        <td>C</td>\n",
       "        <td>4</td>\n",
       "        <td>3</td>\n",
       "    </tr>\n",
       "    <tr>\n",
       "        <td>9</td>\n",
       "        <td>Edgar Thupton </td>\n",
       "        <td>29</td>\n",
       "        <td>Aurora, CO</td>\n",
       "        <td>Fortran</td>\n",
       "        <td>8</td>\n",
       "        <td>7</td>\n",
       "    </tr>\n",
       "    <tr>\n",
       "        <td>10</td>\n",
       "        <td>Cindy Wagener</td>\n",
       "        <td>5 5</td>\n",
       "        <td>Boston, Ma</td>\n",
       "        <td>Python</td>\n",
       "        <td>10</td>\n",
       "        <td>4</td>\n",
       "    </tr>\n",
       "</table>"
      ],
      "text/plain": [
       "[(1, 'John Smith', 33, 'Portsmith, DE', 'C', 7, 3),\n",
       " (2, 'Mary Wilson', 28, 'Los Angles, CA', 'Python', 10, 6),\n",
       " (3, 'Brook Tumay', 61, 'Miami, FL', 'R,Pandas', 3, 2),\n",
       " (4, 'Vieat Olson', 63, 'St. Louis, MO', 'Java', 6, 8),\n",
       " (5, 'Constance Martin', 22, 'Dodge City, KS', 'Visual Basic', 7, 9),\n",
       " (6, 'Carlos Vialli', 39, 'Benton, AR', 'C Sharp', 4, 3),\n",
       " (7, 'Benny Schrartz', 41, 'Dallas, Tx', 'C++', 8, 5),\n",
       " (8, 'John Smith', 22, 'Portsmith, DE', 'C', 4, 3),\n",
       " (9, 'Edgar Thupton ', 29, 'Aurora, CO', 'Fortran', 8, 7),\n",
       " (10, 'Cindy Wagener', '5 5', 'Boston, Ma', 'Python', 10, 4)]"
      ]
     },
     "execution_count": 3,
     "metadata": {},
     "output_type": "execute_result"
    }
   ],
   "source": [
    "%%sql\n",
    "select * from DSASurvey;"
   ]
  },
  {
   "cell_type": "code",
   "execution_count": 7,
   "metadata": {},
   "outputs": [
    {
     "name": "stdout",
     "output_type": "stream",
     "text": [
      " * sqlite:////dsa/data/DSA-7030/DSASurvey.db\n",
      "Done.\n"
     ]
    },
    {
     "data": {
      "text/html": [
       "<table>\n",
       "    <tr>\n",
       "        <th>ID</th>\n",
       "        <th>Name</th>\n",
       "        <th>Age</th>\n",
       "        <th>Location</th>\n",
       "        <th>ProgLang</th>\n",
       "        <th>ProgProf</th>\n",
       "        <th>DSAKnowledgeLevel</th>\n",
       "        <th>FirstName</th>\n",
       "        <th>LastName</th>\n",
       "    </tr>\n",
       "    <tr>\n",
       "        <td>1</td>\n",
       "        <td>John Smith</td>\n",
       "        <td>33</td>\n",
       "        <td>Portsmith, DE</td>\n",
       "        <td>C</td>\n",
       "        <td>7</td>\n",
       "        <td>3</td>\n",
       "        <td>JOHN</td>\n",
       "        <td>SMITH</td>\n",
       "    </tr>\n",
       "    <tr>\n",
       "        <td>2</td>\n",
       "        <td>Mary Wilson</td>\n",
       "        <td>28</td>\n",
       "        <td>Los Angles, CA</td>\n",
       "        <td>Python</td>\n",
       "        <td>10</td>\n",
       "        <td>6</td>\n",
       "        <td>MARY</td>\n",
       "        <td>WILSON</td>\n",
       "    </tr>\n",
       "    <tr>\n",
       "        <td>3</td>\n",
       "        <td>Brook Tumay</td>\n",
       "        <td>61</td>\n",
       "        <td>Miami, FL</td>\n",
       "        <td>R,Pandas</td>\n",
       "        <td>3</td>\n",
       "        <td>2</td>\n",
       "        <td>BROOK</td>\n",
       "        <td>TUMAY</td>\n",
       "    </tr>\n",
       "    <tr>\n",
       "        <td>4</td>\n",
       "        <td>Vieat Olson</td>\n",
       "        <td>63</td>\n",
       "        <td>St. Louis, MO</td>\n",
       "        <td>Java</td>\n",
       "        <td>6</td>\n",
       "        <td>8</td>\n",
       "        <td>VIEAT</td>\n",
       "        <td>OLSON</td>\n",
       "    </tr>\n",
       "    <tr>\n",
       "        <td>5</td>\n",
       "        <td>Constance Martin</td>\n",
       "        <td>22</td>\n",
       "        <td>Dodge City, KS</td>\n",
       "        <td>Visual Basic</td>\n",
       "        <td>7</td>\n",
       "        <td>9</td>\n",
       "        <td>CONSTANCE</td>\n",
       "        <td>MARTIN</td>\n",
       "    </tr>\n",
       "    <tr>\n",
       "        <td>6</td>\n",
       "        <td>Carlos Vialli</td>\n",
       "        <td>39</td>\n",
       "        <td>Benton, AR</td>\n",
       "        <td>C Sharp</td>\n",
       "        <td>4</td>\n",
       "        <td>3</td>\n",
       "        <td>CARLOS</td>\n",
       "        <td>VIALLI</td>\n",
       "    </tr>\n",
       "    <tr>\n",
       "        <td>7</td>\n",
       "        <td>Benny Schrartz</td>\n",
       "        <td>41</td>\n",
       "        <td>Dallas, Tx</td>\n",
       "        <td>C++</td>\n",
       "        <td>8</td>\n",
       "        <td>5</td>\n",
       "        <td>BENNY</td>\n",
       "        <td>SCHRARTZ</td>\n",
       "    </tr>\n",
       "    <tr>\n",
       "        <td>8</td>\n",
       "        <td>John Smith</td>\n",
       "        <td>22</td>\n",
       "        <td>Portsmith, DE</td>\n",
       "        <td>C</td>\n",
       "        <td>4</td>\n",
       "        <td>3</td>\n",
       "        <td>JOHN</td>\n",
       "        <td>SMITH</td>\n",
       "    </tr>\n",
       "    <tr>\n",
       "        <td>9</td>\n",
       "        <td>Edgar Thupton </td>\n",
       "        <td>29</td>\n",
       "        <td>Aurora, CO</td>\n",
       "        <td>Fortran</td>\n",
       "        <td>8</td>\n",
       "        <td>7</td>\n",
       "        <td>EDGAR</td>\n",
       "        <td>THUPTON</td>\n",
       "    </tr>\n",
       "    <tr>\n",
       "        <td>10</td>\n",
       "        <td>Cindy Wagener</td>\n",
       "        <td>5 5</td>\n",
       "        <td>Boston, Ma</td>\n",
       "        <td>Python</td>\n",
       "        <td>10</td>\n",
       "        <td>4</td>\n",
       "        <td>CINDY</td>\n",
       "        <td>WAGENER</td>\n",
       "    </tr>\n",
       "</table>"
      ],
      "text/plain": [
       "[(1, 'John Smith', 33, 'Portsmith, DE', 'C', 7, 3, 'JOHN', 'SMITH'),\n",
       " (2, 'Mary Wilson', 28, 'Los Angles, CA', 'Python', 10, 6, 'MARY', 'WILSON'),\n",
       " (3, 'Brook Tumay', 61, 'Miami, FL', 'R,Pandas', 3, 2, 'BROOK', 'TUMAY'),\n",
       " (4, 'Vieat Olson', 63, 'St. Louis, MO', 'Java', 6, 8, 'VIEAT', 'OLSON'),\n",
       " (5, 'Constance Martin', 22, 'Dodge City, KS', 'Visual Basic', 7, 9, 'CONSTANCE', 'MARTIN'),\n",
       " (6, 'Carlos Vialli', 39, 'Benton, AR', 'C Sharp', 4, 3, 'CARLOS', 'VIALLI'),\n",
       " (7, 'Benny Schrartz', 41, 'Dallas, Tx', 'C++', 8, 5, 'BENNY', 'SCHRARTZ'),\n",
       " (8, 'John Smith', 22, 'Portsmith, DE', 'C', 4, 3, 'JOHN', 'SMITH'),\n",
       " (9, 'Edgar Thupton ', 29, 'Aurora, CO', 'Fortran', 8, 7, 'EDGAR', 'THUPTON'),\n",
       " (10, 'Cindy Wagener', '5 5', 'Boston, Ma', 'Python', 10, 4, 'CINDY', 'WAGENER')]"
      ]
     },
     "execution_count": 7,
     "metadata": {},
     "output_type": "execute_result"
    }
   ],
   "source": [
    "%%sql\n",
    "Select *,\n",
    "upper(trim(substr(trim(Name),1,instr(trim(Name),' ')-1))) as FirstName, \n",
    "upper(trim(substr(trim(Name),instr(trim(Name),' ')+1))) as LastName \n",
    "FROM DSASurvey;"
   ]
  },
  {
   "cell_type": "markdown",
   "metadata": {},
   "source": [
    "# Save your Notebook, then `File > Close and Halt`"
   ]
  },
  {
   "cell_type": "code",
   "execution_count": null,
   "metadata": {},
   "outputs": [],
   "source": []
  }
 ],
 "metadata": {
  "kernelspec": {
   "display_name": "Python 3 (ipykernel)",
   "language": "python",
   "name": "python3"
  },
  "language_info": {
   "codemirror_mode": {
    "name": "ipython",
    "version": 3
   },
   "file_extension": ".py",
   "mimetype": "text/x-python",
   "name": "python",
   "nbconvert_exporter": "python",
   "pygments_lexer": "ipython3",
   "version": "3.9.12"
  }
 },
 "nbformat": 4,
 "nbformat_minor": 2
}
