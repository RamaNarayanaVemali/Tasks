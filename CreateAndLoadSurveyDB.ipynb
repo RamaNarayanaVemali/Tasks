{
 "cells": [
  {
   "cell_type": "markdown",
   "metadata": {},
   "source": [
    "# Creating and Loading Survey Data"
   ]
  },
  {
   "cell_type": "markdown",
   "metadata": {},
   "source": [
    "## 1. Review File\n",
    "\n",
    " [survey.db.sql](./survey.db.sql)\n",
    " \n",
    " #### Edit file to add your pawprint in front to configure the schema.\n",
    " 1. Use the folder view of Jupyter to navigate to module2/exercises\n",
    " 2. Click to open the file.\n",
    " 3. Use the file menu to save the file."
   ]
  },
  {
   "cell_type": "markdown",
   "metadata": {},
   "source": [
    "\n",
    "## 2. Use terminal to access your personal schema in `dsa_student` to run the file\n",
    "\n",
    "#### Hints:\n",
    "1. Use the *change directory*, `cd`, command to navigate to this folder in Jupyter Terminal\n",
    "2. Connect to the database\n",
    "3. \"Run the SQL file\""
   ]
  },
  {
   "cell_type": "markdown",
   "metadata": {},
   "source": [
    "## 3. Copy in the terminal output / results from running the file"
   ]
  },
  {
   "cell_type": "raw",
   "metadata": {},
   "source": [
    "\n",
    "BEGIN\n",
    "CREATE TABLE\n",
    "INSERT 0 1\n",
    "INSERT 0 1\n",
    "INSERT 0 1\n",
    "INSERT 0 1\n",
    "INSERT 0 1\n",
    "CREATE TABLE\n",
    "INSERT 0 1\n",
    "INSERT 0 1\n",
    "INSERT 0 1\n",
    "CREATE TABLE\n",
    "INSERT 0 1\n",
    "INSERT 0 1\n",
    "INSERT 0 1\n",
    "INSERT 0 1\n",
    "INSERT 0 1\n",
    "INSERT 0 1\n",
    "INSERT 0 1\n",
    "INSERT 0 1\n",
    "CREATE TABLE\n",
    "INSERT 0 1\n",
    "INSERT 0 1\n",
    "INSERT 0 1\n",
    "INSERT 0 1\n",
    "INSERT 0 1\n",
    "INSERT 0 1\n",
    "INSERT 0 1\n",
    "INSERT 0 1\n",
    "INSERT 0 1\n",
    "INSERT 0 1\n",
    "INSERT 0 1\n",
    "INSERT 0 1\n",
    "INSERT 0 1\n",
    "INSERT 0 1\n",
    "INSERT 0 1\n",
    "INSERT 0 1\n",
    "INSERT 0 1\n",
    "INSERT 0 1\n",
    "INSERT 0 1\n",
    "INSERT 0 1\n",
    "INSERT 0 1\n",
    "COMMIT"
   ]
  },
  {
   "cell_type": "markdown",
   "metadata": {},
   "source": [
    "## 4. Describe the tables using PostgreSQL commands and paste the output below."
   ]
  },
  {
   "cell_type": "raw",
   "metadata": {},
   "source": [
    " Table \"rc8kv.person\"\n",
    "  Column  | Type | Collation | Nullable | Default\n",
    "----------+------+-----------+----------+---------\n",
    " id       | text |           |          |\n",
    " personal | text |           |          |\n",
    " family   | text |           |          |"
   ]
  },
  {
   "cell_type": "raw",
   "metadata": {},
   "source": [
    "Table \"rc8kv.site\"\n",
    " Column | Type | Collation | Nullable | Default\n",
    "--------+------+-----------+----------+---------\n",
    " name   | text |           |          |\n",
    " lat    | real |           |          |\n",
    " long   | real |           |          |\n"
   ]
  },
  {
   "cell_type": "raw",
   "metadata": {},
   "source": [
    " Table \"rc8kv.survey\"\n",
    " Column  |  Type   | Collation | Nullable | Default\n",
    "---------+---------+-----------+----------+---------\n",
    " taken   | integer |           |          |\n",
    " person  | text    |           |          |\n",
    " quant   | text    |           |          |\n",
    " reading | real    |           |          |"
   ]
  },
  {
   "cell_type": "raw",
   "metadata": {},
   "source": [
    "Table \"rc8kv.visited\"\n",
    " Column | Type | Collation | Nullable | Default\n",
    "--------+------+-----------+----------+---------\n",
    " id     | text |           |          |\n",
    " site   | text |           |          |\n",
    " dated  | text |           |          |"
   ]
  },
  {
   "cell_type": "markdown",
   "metadata": {},
   "source": [
    "# 5. Write / Copy one of the queries from the prior module related to this data, adapted to this database and the schema-specified table names.\n",
    "\n",
    "### Paste the Query and the Reset in the two cells below."
   ]
  },
  {
   "cell_type": "raw",
   "metadata": {},
   "source": [
    "#################################################\n",
    "## Paste Query for Task #5 Below this comment  ## \n",
    "#################################################\n",
    "\n",
    "\n",
    "#Display all temperature readings from the Survey table in numerical order with the highest temperature first\n",
    "\n",
    "SELECT reading \n",
    "FROM survey \n",
    "WHERE quant = 'temp' \n",
    "ORDER BY reading DESC;\n"
   ]
  },
  {
   "cell_type": "raw",
   "metadata": {},
   "source": [
    "#################################################\n",
    "## Paste Result for Task #5 Below this comment ## \n",
    "#################################################\n",
    "\n",
    "reading\n",
    "---------\n",
    "     -16\n",
    "   -18.5\n",
    "   -21.5\n",
    "     -26\n",
    "(4 rows)\n",
    "\n",
    "\n"
   ]
  },
  {
   "cell_type": "markdown",
   "metadata": {},
   "source": [
    "----\n",
    "# Save your notebook, then `File > Close and Halt`"
   ]
  }
 ],
 "metadata": {
  "kernelspec": {
   "display_name": "Python 3",
   "language": "python",
   "name": "python3"
  },
  "language_info": {
   "codemirror_mode": {
    "name": "ipython",
    "version": 3
   },
   "file_extension": ".py",
   "mimetype": "text/x-python",
   "name": "python",
   "nbconvert_exporter": "python",
   "pygments_lexer": "ipython3",
   "version": "3.7.3"
  }
 },
 "nbformat": 4,
 "nbformat_minor": 2
}
